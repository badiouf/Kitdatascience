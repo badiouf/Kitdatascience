{
 "cells": [
  {
   "cell_type": "code",
   "execution_count": 1,
   "metadata": {},
   "outputs": [],
   "source": [
    "from bs4 import BeautifulSoup as bs\n",
    "import requests\n",
    "import time"
   ]
  },
  {
   "cell_type": "code",
   "execution_count": 5,
   "metadata": {},
   "outputs": [
    {
     "name": "stdout",
     "output_type": "stream",
     "text": [
      "found: https://fr.wikipedia.org/wiki/Haras_nationaux\n",
      "found: https://fr.wikipedia.org/wiki/Haras\n",
      "found: https://fr.wikipedia.org/wiki/%C3%89talon_(cheval)\n",
      "found: https://fr.wikipedia.org/wiki/Cheval\n",
      "found: https://fr.wikipedia.org/wiki/Esp%C3%A8ce\n",
      "found: https://fr.wikipedia.org/wiki/Biologie\n",
      "found: https://fr.wikipedia.org/wiki/Grec\n",
      "found: https://fr.wikipedia.org/wiki/Grec_moderne\n",
      "found: https://fr.wikipedia.org/wiki/Langue\n",
      "found: https://fr.wikipedia.org/wiki/Syst%C3%A8me\n",
      "found: https://fr.wikipedia.org/wiki/Ensemble\n",
      "found: https://fr.wikipedia.org/wiki/Math%C3%A9matiques\n",
      "found: https://fr.wikipedia.org/wiki/Connaissance\n",
      "found: https://fr.wikipedia.org/wiki/Notion\n",
      "found: https://fr.wikipedia.org/wiki/Connaissance_(philosophie)\n",
      "found: https://fr.wikipedia.org/wiki/Philosophie\n"
     ]
    },
    {
     "data": {
      "text/plain": [
       "16"
      ]
     },
     "execution_count": 5,
     "metadata": {},
     "output_type": "execute_result"
    }
   ],
   "source": [
    "\n",
    "def get_url(url):\n",
    "    req = requests.get(url).text\n",
    "    soup = bs(req, 'html.parser')\n",
    "    \n",
    "    return soup\n",
    "\n",
    "def filter_links(soup):\n",
    "    links = []\n",
    "    for a in soup.find(id=\"mw-content-text\").select('p a'):\n",
    "        if a.parent.name != 'span':\n",
    "            l = a.attrs.get('href')\n",
    "            if l and l.startswith('/wiki/') and ':' not in l:\n",
    "                url = base_url + l\n",
    "                links.append(url)\n",
    "    return links\n",
    "\n",
    "def follow_links(url):\n",
    "    count = 0\n",
    "    while count < 50 and not url.endswith(\"/wiki/Philosophie\"):\n",
    "        soup = get_url(url)\n",
    "        links = filter_links(soup)\n",
    "        url = links[0] if links[0] != url else links[1]\n",
    "        print('site_trouvé:', url)\n",
    "        count += 1\n",
    "        time.sleep(0.5)\n",
    "    return count\n",
    "\n",
    "follow_links(\"https://fr.wikipedia.org\")\n"
   ]
  },
  {
   "cell_type": "code",
   "execution_count": null,
   "metadata": {},
   "outputs": [],
   "source": []
  }
 ],
 "metadata": {
  "kernelspec": {
   "display_name": "Python 3",
   "language": "python",
   "name": "python3"
  },
  "language_info": {
   "codemirror_mode": {
    "name": "ipython",
    "version": 3
   },
   "file_extension": ".py",
   "mimetype": "text/x-python",
   "name": "python",
   "nbconvert_exporter": "python",
   "pygments_lexer": "ipython3",
   "version": "3.7.3"
  }
 },
 "nbformat": 4,
 "nbformat_minor": 2
}
